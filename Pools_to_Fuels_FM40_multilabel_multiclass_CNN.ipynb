{
  "nbformat": 4,
  "nbformat_minor": 0,
  "metadata": {
    "colab": {
      "name": "Pools to Fuels FM40_multilabel_multiclass_CNN.ipynb",
      "provenance": [],
      "collapsed_sections": [],
      "machine_shape": "hm",
      "background_execution": "on",
      "include_colab_link": true
    },
    "kernelspec": {
      "name": "python3",
      "display_name": "Python 3"
    },
    "language_info": {
      "name": "python"
    },
    "accelerator": "GPU"
  },
  "cells": [
    {
      "cell_type": "markdown",
      "metadata": {
        "id": "view-in-github",
        "colab_type": "text"
      },
      "source": [
        "<a href=\"https://colab.research.google.com/github/jdilger/TensorFlowNotebooks/blob/master/Pools_to_Fuels_FM40_multilabel_multiclass_CNN.ipynb\" target=\"_parent\"><img src=\"https://colab.research.google.com/assets/colab-badge.svg\" alt=\"Open In Colab\"/></a>"
      ]
    },
    {
      "cell_type": "markdown",
      "source": [
        "# Pools to Fuels: Neural Networks FM40 modeling"
      ],
      "metadata": {
        "id": "P7VUqBiHsBaX"
      }
    },
    {
      "cell_type": "markdown",
      "source": [
        "Package Installation"
      ],
      "metadata": {
        "id": "pHWql40yu72B"
      }
    },
    {
      "cell_type": "code",
      "source": [
        "# import installed packages\n",
        "import math\n",
        "import json\n",
        "import subprocess\n",
        "import numpy as np\n",
        "import math\n",
        "import folium\n",
        "from folium import plugins\n",
        "from pprint import pprint\n",
        "print(folium.__version__)\n",
        "\n",
        "%pylab inline"
      ],
      "metadata": {
        "id": "pjhfmGL2u_n9",
        "colab": {
          "base_uri": "https://localhost:8080/"
        },
        "outputId": "a80d9260-0026-4094-c3a5-c921817188af"
      },
      "execution_count": 1,
      "outputs": [
        {
          "output_type": "stream",
          "name": "stdout",
          "text": [
            "0.8.3\n",
            "Populating the interactive namespace from numpy and matplotlib\n"
          ]
        }
      ]
    },
    {
      "cell_type": "code",
      "source": [
        "!nvidia-smi"
      ],
      "metadata": {
        "colab": {
          "base_uri": "https://localhost:8080/"
        },
        "id": "Lg80uB0g70Pq",
        "outputId": "8ecc8bb0-8584-4ad4-c437-f8adf4e4803c"
      },
      "execution_count": 2,
      "outputs": [
        {
          "output_type": "stream",
          "name": "stdout",
          "text": [
            "Wed Mar  2 16:13:10 2022       \n",
            "+-----------------------------------------------------------------------------+\n",
            "| NVIDIA-SMI 460.32.03    Driver Version: 460.32.03    CUDA Version: 11.2     |\n",
            "|-------------------------------+----------------------+----------------------+\n",
            "| GPU  Name        Persistence-M| Bus-Id        Disp.A | Volatile Uncorr. ECC |\n",
            "| Fan  Temp  Perf  Pwr:Usage/Cap|         Memory-Usage | GPU-Util  Compute M. |\n",
            "|                               |                      |               MIG M. |\n",
            "|===============================+======================+======================|\n",
            "|   0  Tesla T4            Off  | 00000000:00:04.0 Off |                    0 |\n",
            "| N/A   34C    P8     9W /  70W |      0MiB / 15109MiB |      0%      Default |\n",
            "|                               |                      |                  N/A |\n",
            "+-------------------------------+----------------------+----------------------+\n",
            "                                                                               \n",
            "+-----------------------------------------------------------------------------+\n",
            "| Processes:                                                                  |\n",
            "|  GPU   GI   CI        PID   Type   Process name                  GPU Memory |\n",
            "|        ID   ID                                                   Usage      |\n",
            "|=============================================================================|\n",
            "|  No running processes found                                                 |\n",
            "+-----------------------------------------------------------------------------+\n"
          ]
        }
      ]
    },
    {
      "cell_type": "markdown",
      "source": [
        "Google Earth Engine installation and authentication"
      ],
      "metadata": {
        "id": "CFTWST6bsWUt"
      }
    },
    {
      "cell_type": "code",
      "execution_count": 3,
      "metadata": {
        "id": "5E-QmFb3r9nC"
      },
      "outputs": [],
      "source": [
        "!pip install earthengine-api -q "
      ]
    },
    {
      "cell_type": "code",
      "source": [
        "from google.colab import auth\n",
        "auth.authenticate_user()\n",
        "\n",
        "from google.colab import drive"
      ],
      "metadata": {
        "id": "eHr4PXjCtyOS"
      },
      "execution_count": 4,
      "outputs": []
    },
    {
      "cell_type": "code",
      "source": [
        "import ee\n",
        "\n",
        "ee.Authenticate()\n",
        "ee.Initialize()\n",
        "\n",
        "# Define the URL format used for Earth Engine generated map tiles.\n",
        "EE_TILES = 'https://earthengine.googleapis.com/map/{mapid}/{{z}}/{{x}}/{{y}}?token={token}'\n",
        "\n",
        "\n",
        "# Test the earthengine command by getting help on upload.\n",
        "#!earthengine upload image -h"
      ],
      "metadata": {
        "id": "2SPc-e96uThv",
        "colab": {
          "base_uri": "https://localhost:8080/"
        },
        "outputId": "27f8ee22-c790-43e8-98a7-4b109c57f688"
      },
      "execution_count": 5,
      "outputs": [
        {
          "output_type": "stream",
          "name": "stdout",
          "text": [
            "To authorize access needed by Earth Engine, open the following URL in a web browser and follow the instructions. If the web browser does not start automatically, please manually browse the URL below.\n",
            "\n",
            "    https://accounts.google.com/o/oauth2/auth?client_id=517222506229-vsmmajv00ul0bs7p89v5m89qs8eb9359.apps.googleusercontent.com&scope=https%3A%2F%2Fwww.googleapis.com%2Fauth%2Fearthengine+https%3A%2F%2Fwww.googleapis.com%2Fauth%2Fdevstorage.full_control&redirect_uri=urn%3Aietf%3Awg%3Aoauth%3A2.0%3Aoob&response_type=code&code_challenge=6wzgYmYZfH8IccxgKSx2QjXs4Ymhk77ykTyPjy_ejN8&code_challenge_method=S256\n",
            "\n",
            "The authorization workflow will generate a code, which you should paste in the box below. \n",
            "Enter verification code: 4/1AX4XfWi_kMgS8juY-PgIWGvSFSTXRKafVMBcWFD28zBaiGAIhAjypDMt4fk\n",
            "\n",
            "Successfully saved authorization token.\n"
          ]
        }
      ]
    },
    {
      "cell_type": "markdown",
      "source": [
        "TensorFlow imports"
      ],
      "metadata": {
        "id": "_Wb8jbWlw86A"
      }
    },
    {
      "cell_type": "code",
      "source": [
        "import tensorflow as tf\n",
        "print(tf.__version__)"
      ],
      "metadata": {
        "colab": {
          "base_uri": "https://localhost:8080/"
        },
        "id": "XH_redeQxAYi",
        "outputId": "6921540c-a154-49e8-95b5-66bc5ace3333"
      },
      "execution_count": 6,
      "outputs": [
        {
          "output_type": "stream",
          "name": "stdout",
          "text": [
            "2.8.0\n"
          ]
        }
      ]
    },
    {
      "cell_type": "markdown",
      "source": [
        "Fuel Layers from Pyregence GEE assets"
      ],
      "metadata": {
        "id": "cipN5mToXRU6"
      }
    },
    {
      "cell_type": "code",
      "source": [
        "# label(s)\n",
        "# categorical\n",
        "\n",
        "# 0 - 45\n",
        "CBD = ee.Image('projects/pyregence-ee/assets/conus/fuels/Fuels_CBD_2021_12').rename('CBD').int64()\n",
        "CBD = CBD.updateMask(CBD.neq(-9999))\n",
        "\n",
        "# 0 - 45\n",
        "CBH = ee.Image('projects/pyregence-ee/assets/conus/fuels/Fuels_CBH_2021_12').rename('CBH').int64()\n",
        "CBH = CBH.updateMask(CBH.neq(-9999))\n",
        "\n",
        "# 0 - 100\n",
        "CC = ee.Image('projects/pyregence-ee/assets/conus/fuels/Fuels_CC_2021_12').rename('CC').int64()\n",
        "CC = CC.updateMask(CC.neq(-9999))\n",
        "remap_cc_from = [0,5,15,17,25,35,42,45,55,65,75,80,85,95]\n",
        "remap_cc_to = [0,1,2,3,4,5,6,7,8,9,10,11,12,13]\n",
        "CC = CC.remap(remap_cc_from,remap_cc_to).rename('CC')\n",
        "\n",
        "# 0 - 510\n",
        "CH = ee.Image('projects/pyregence-ee/assets/conus/fuels/Fuels_CH_2021_12').rename('CH').int64()\n",
        "CH = CH.updateMask(CH.neq(-9999))\n",
        "# test remapping to lower total number of classes\n",
        "remap_from = [0,30,70,110,150,190,230,270,310,350,390,430,470,510]\n",
        "remap_to = [0,1,2,3,4,5,6,7,8,9,10,11,12,13]\n",
        "CH = CH.remap(remap_from,remap_to).rename('CH')\n",
        "\n",
        "# 45 classes\n",
        "FM40_WUI = ee.Image('projects/pyregence-ee/assets/conus/fuels/Fuels_FM40_2021_12').rename('FM40_WUI').int64()\n",
        "remap_from_fm = [91,92,93,98,99,101,102,103,104,105,106,107,108,109,121,122,123,124,141,142,143,144,145,146,147,148,149,161,162,163,164,165,181,182,183,184,185,186,187,188,189,201,202,203,204]\n",
        "remap_to_fm =  [0,1,2,3,4,5,6,7,8,9,10,11,12,13,14,15,16,17,18,19,20,21,22,23,24,25,26,27,28,29,30,31,32,33,34,35,36,37,38,39,40,41,42,43,44]\n",
        "FM40_WUI = FM40_WUI.remap(remap_from_fm,remap_to_fm).rename('FM40_WUI')\n",
        "\n",
        "counties = ee.FeatureCollection('projects/pyregence-ee/assets/lucas/cb_2020_us_county_500k')\n",
        "EVT_coll = ee.ImageCollection('projects/pyregence-ee/assets/conus/landfire/evt')\n",
        "\n",
        "LABEL_MIN_MAX = {\n",
        "    'CBD_min': 0,\n",
        "    'CBD_max': 45,\n",
        "    'CBH_min': 0,\n",
        "    'CBH_max': 45,\n",
        "    'CC_min': 0,\n",
        "    'CC_max': 13,\n",
        "    'CH_min': 0,\n",
        "    'CH_max': 13,\n",
        "    'FM40_WUI_min': 0,\n",
        "    'FM40_WUI_max': 45,\n",
        "}\n",
        "\n",
        "FEATURES_MIN_MAX_CONTINUOUS = {\n",
        "    # features\n",
        "    # continuous\n",
        "    'agfast_min': 0,\n",
        "    'agfast_max': 94.37110137939453,\n",
        "    'agmed_min': 0,\n",
        "    'agmed_max': 101.16639709472656,\n",
        "    'agslo_min': 0,\n",
        "    'agslo_max': 86.55889892578125,\n",
        "    'agvfast_min': -0.3476000130176544,\n",
        "    'agvfast_max': 15.683699607849121,\n",
        "    'bgfast_min': 0,\n",
        "    'bgfast_max': 35.17770004272461,\n",
        "    'bgslo_min': 0,\n",
        "    'bgslo_max': 303.1913146972656,\n",
        "    'bgvfast_min': -0.08510000258684158,\n",
        "    'bgvfast_max': 1.5648000240325928,\n",
        "    'croot_min': 0,\n",
        "    'croot_max': 86.0250015258789,\n",
        "    'froot_min': 0,\n",
        "    'froot_max': 6.674200057983398,\n",
        "    'foliage_min': 0,\n",
        "    'foliage_max': 20.690799713134766,\n",
        "    'merch_min': 0,\n",
        "    'merch_max': 334.8053894042969,\n",
        "    'otherw_min': 0,\n",
        "    'otherw_max': 66.0457992553711,\n",
        "    'snbran_min': 0,\n",
        "    'snbran_max': 37.233299255371094,\n",
        "    'snstem_min': 0,\n",
        "    'snstem_max': 334.8721923828125,\n",
        "}"
      ],
      "metadata": {
        "id": "PThW5mY_XujG"
      },
      "execution_count": 51,
      "outputs": []
    },
    {
      "cell_type": "markdown",
      "source": [
        "Pools Layers from Pyregence GEE assets"
      ],
      "metadata": {
        "id": "ii6MUBA6Yyg_"
      }
    },
    {
      "cell_type": "code",
      "source": [
        "# features\n",
        "# continuous\n",
        "\n",
        "agfast = ee.Image('projects/pyregence-ee/assets/lucas/conus/Aboveground-Fast_2022_02').rename('agfast').float()\n",
        "# scaling\n",
        "agfast = agfast.subtract(FEATURES_MIN_MAX_CONTINUOUS['agfast_min']).divide(ee.Image(FEATURES_MIN_MAX_CONTINUOUS['agfast_max']).subtract(ee.Image(FEATURES_MIN_MAX_CONTINUOUS['agfast_min'])))\n",
        "agfast = agfast.updateMask(agfast.gte(0).And(agfast.lte(1)))\n",
        "\n",
        "agmed = ee.Image('projects/pyregence-ee/assets/lucas/conus/Aboveground-Medium_2022_02').rename('agmed').float()\n",
        "agmed = agmed.subtract(FEATURES_MIN_MAX_CONTINUOUS['agmed_min']).divide(ee.Image(FEATURES_MIN_MAX_CONTINUOUS['agmed_max']).subtract(ee.Image(FEATURES_MIN_MAX_CONTINUOUS['agmed_min'])))\n",
        "agmed = agmed.updateMask(agmed.gte(0).And(agmed.lte(1)))\n",
        "\n",
        "agslo = ee.Image('projects/pyregence-ee/assets/lucas/conus/Aboveground-Slow_2022_02').rename('agslo').float()\n",
        "agslo = agslo.subtract(FEATURES_MIN_MAX_CONTINUOUS['agslo_min']).divide(ee.Image(FEATURES_MIN_MAX_CONTINUOUS['agslo_max']).subtract(ee.Image(FEATURES_MIN_MAX_CONTINUOUS['agslo_min'])))\n",
        "agslo = agslo.updateMask(agslo.gte(0).And(agslo.lte(1)))\n",
        "\n",
        "agvfast = ee.Image('projects/pyregence-ee/assets/lucas/conus/Aboveground-Very-Fast_2022_02').rename('agvfast').float()\n",
        "agvfast = agvfast.subtract(FEATURES_MIN_MAX_CONTINUOUS['agvfast_min']).divide(ee.Image(FEATURES_MIN_MAX_CONTINUOUS['agvfast_max']).subtract(ee.Image(FEATURES_MIN_MAX_CONTINUOUS['agvfast_min'])))\n",
        "agvfast = agvfast.updateMask(agvfast.gte(0).And(agvfast.lte(1)))\n",
        "\n",
        "bgfast = ee.Image('projects/pyregence-ee/assets/lucas/conus/Belowground-Fast_2022_02').rename('bgfast').float()\n",
        "bgfast = bgfast.subtract(FEATURES_MIN_MAX_CONTINUOUS['bgfast_min']).divide(ee.Image(FEATURES_MIN_MAX_CONTINUOUS['bgfast_max']).subtract(ee.Image(FEATURES_MIN_MAX_CONTINUOUS['bgfast_min'])))\n",
        "bgfast = bgfast.updateMask(bgfast.gte(0).And(bgfast.lte(1)))\n",
        "\n",
        "bgslo = ee.Image('projects/pyregence-ee/assets/lucas/conus/Belowground-Slow_2022_02').rename('bgslo').float()\n",
        "bgslo = bgslo.subtract(FEATURES_MIN_MAX_CONTINUOUS['bgslo_min']).divide(ee.Image(FEATURES_MIN_MAX_CONTINUOUS['bgslo_max']).subtract(ee.Image(FEATURES_MIN_MAX_CONTINUOUS['bgslo_min'])))\n",
        "bgslo = bgslo.updateMask(bgslo.gte(0).And(bgslo.lte(1)))\n",
        "\n",
        "bgvfast = ee.Image('projects/pyregence-ee/assets/lucas/conus/Belowground-Very-Fast_2022_02').rename('bgvfast').float()\n",
        "bgvfast = bgvfast.subtract(FEATURES_MIN_MAX_CONTINUOUS['bgvfast_min']).divide(ee.Image(FEATURES_MIN_MAX_CONTINUOUS['bgvfast_max']).subtract(ee.Image(FEATURES_MIN_MAX_CONTINUOUS['bgvfast_min'])))\n",
        "bgvfast = bgvfast.updateMask(bgvfast.gte(0).And(bgvfast.lte(1)))\n",
        "\n",
        "croot = ee.Image('projects/pyregence-ee/assets/lucas/conus/Coarse-Roots_2022_02').rename('croot').float()\n",
        "croot = croot.subtract(FEATURES_MIN_MAX_CONTINUOUS['croot_min']).divide(ee.Image(FEATURES_MIN_MAX_CONTINUOUS['croot_max']).subtract(ee.Image(FEATURES_MIN_MAX_CONTINUOUS['croot_min'])))\n",
        "croot = croot.updateMask(croot.gte(0).And(croot.lte(1)))\n",
        "\n",
        "froot = ee.Image('projects/pyregence-ee/assets/lucas/conus/Fine-Roots_2022_02').rename('froot').float()\n",
        "froot = froot.subtract(FEATURES_MIN_MAX_CONTINUOUS['froot_min']).divide(ee.Image(FEATURES_MIN_MAX_CONTINUOUS['froot_max']).subtract(ee.Image(FEATURES_MIN_MAX_CONTINUOUS['froot_min'])))\n",
        "froot = froot.updateMask(froot.gte(0).And(froot.lte(1)))\n",
        "\n",
        "foliage = ee.Image('projects/pyregence-ee/assets/lucas/conus/Foliage_2022_02').rename('foliage').float()\n",
        "foliage = foliage.subtract(FEATURES_MIN_MAX_CONTINUOUS['foliage_min']).divide(ee.Image(FEATURES_MIN_MAX_CONTINUOUS['foliage_max']).subtract(ee.Image(FEATURES_MIN_MAX_CONTINUOUS['foliage_min'])))\n",
        "foliage = foliage.updateMask(foliage.gte(0).And(foliage.lte(1)))\n",
        "\n",
        "merch = ee.Image('projects/pyregence-ee/assets/lucas/conus/Merchantable_2022_02').rename('merch').float()\n",
        "merch = merch.subtract(FEATURES_MIN_MAX_CONTINUOUS['merch_min']).divide(ee.Image(FEATURES_MIN_MAX_CONTINUOUS['merch_max']).subtract(ee.Image(FEATURES_MIN_MAX_CONTINUOUS['merch_min'])))\n",
        "merch = merch.updateMask(merch.gte(0).And(merch.lte(1)))\n",
        "\n",
        "otherw = ee.Image('projects/pyregence-ee/assets/lucas/conus/Other-Wood_2022_02').rename('otherw').float()\n",
        "otherw = otherw.subtract(FEATURES_MIN_MAX_CONTINUOUS['otherw_min']).divide(ee.Image(FEATURES_MIN_MAX_CONTINUOUS['otherw_max']).subtract(ee.Image(FEATURES_MIN_MAX_CONTINUOUS['otherw_min'])))\n",
        "otherw = otherw.updateMask(otherw.gte(0).And(otherw.lte(1)))\n",
        "\n",
        "snbran = ee.Image('projects/pyregence-ee/assets/lucas/conus/Snag-Branch_2022_02').rename('snbran').float()\n",
        "snbran = snbran.subtract(FEATURES_MIN_MAX_CONTINUOUS['snbran_min']).divide(ee.Image(FEATURES_MIN_MAX_CONTINUOUS['snbran_max']).subtract(ee.Image(FEATURES_MIN_MAX_CONTINUOUS['snbran_min'])))\n",
        "snbran = snbran.updateMask(snbran.gte(0).And(snbran.lte(1)))\n",
        "\n",
        "snstem = ee.Image('projects/pyregence-ee/assets/lucas/conus/Snag-Stem_2022_02').rename('snstem').float()\n",
        "snstem = snstem.subtract(FEATURES_MIN_MAX_CONTINUOUS['snstem_min']).divide(ee.Image(FEATURES_MIN_MAX_CONTINUOUS['snstem_max']).subtract(ee.Image(FEATURES_MIN_MAX_CONTINUOUS['snstem_min'])))\n",
        "snstem = snstem.updateMask(snstem.gte(0).And(snstem.lte(1)))\n",
        "\n",
        "\n",
        "\n",
        "# remove this\n",
        "# last_dist = ee.Image('projects/pyregence-ee/assets/lucas/conus/Recent-Disturbance-Masked_2022_02').rename('ldist').float()\n",
        "\n",
        "# categorical\n",
        "# not using now\n",
        "# stateclass = ee.Image('projects/pyregence-ee/assets/lucas/conus/stateclass_onlyforest').rename('sclass').float()\n",
        "# evt = ee.Image('projects/pyregence-ee/assets/conus/landfire/evt/LF2016_EVT_200').rename('evt').float()\n",
        "# age = ee.Image('projects/pyregence-ee/assets/lucas/conus/Age-Class_2022_02').rename('age').float()\n"
      ],
      "metadata": {
        "id": "b-QugBGcY3Hm"
      },
      "execution_count": 52,
      "outputs": []
    },
    {
      "cell_type": "markdown",
      "source": [
        "Topographic Layers from GEE"
      ],
      "metadata": {
        "id": "iC5tuSk3aMvB"
      }
    },
    {
      "cell_type": "code",
      "source": [
        "srtm = ee.Image('USGS/SRTMGL1_003')\n",
        "elevation = srtm.select('elevation').float()\n",
        "slope = ee.Terrain.slope(elevation).float()\n",
        "aspect = ee.Terrain.aspect(elevation).float()\n"
      ],
      "metadata": {
        "id": "AJE_mIfOZioS"
      },
      "execution_count": 53,
      "outputs": []
    },
    {
      "cell_type": "code",
      "source": [
        "# Area of Interest - 20 counties\n",
        "\n",
        "county_list = counties.filter(ee.Filter.inList('GEOID', \n",
        "          ee.List([\"30013\", \"41029\", \"06069\", \"23011\", \"41003\", \n",
        "                    \"53041\", \"53037\", \"01037\", \"06043\", \"08007\", \n",
        "                    \"16015\", \"16035\", \"21131\", \"29179\", \"36113\", \n",
        "                    \"40081\", \"45041\", \"48259\", \"49051\", \"55099\"])));\n"
      ],
      "metadata": {
        "id": "IdFLLAFgk86a"
      },
      "execution_count": 54,
      "outputs": []
    },
    {
      "cell_type": "markdown",
      "source": [
        "Data stacking and sampling\n",
        "\n"
      ],
      "metadata": {
        "id": "4CVZrm1RTIJh"
      }
    },
    {
      "cell_type": "code",
      "metadata": {
        "id": "GHTOc5YLQZ5B",
        "colab": {
          "base_uri": "https://localhost:8080/"
        },
        "outputId": "2a79cc8c-6a99-45c1-a595-e8416b2b1366"
      },
      "source": [
        "# Cloud Storage bucket into which training, testing and prediction \n",
        "# datasets will be written.  You must be able to write into this bucket.\n",
        "OUTPUT_BUCKET = 'pools2fuels'\n",
        "\n",
        "# Data for predictors.\n",
        "carbon_bands = agfast.addBands(agmed).addBands(agslo).addBands(agvfast).addBands(bgfast).addBands(bgslo).addBands(bgvfast) \\\n",
        "                     .addBands(croot).addBands(froot).addBands(foliage).addBands(merch).addBands(otherw).addBands(snbran).addBands(snstem).addBands(aspect)\n",
        "\n",
        "# ['CBD',\t'CBH', 'CC', 'CH', 'FM40_WUI']\n",
        "label_data = CBD.addBands(CBH).addBands(CC).addBands(CH).addBands(FM40_WUI)\n",
        "all_data = carbon_bands.addBands(label_data)\n",
        "\n",
        "# Use these bands for prediction.\n",
        "# ['agfast', 'agmed', 'agslo', 'agvfast', 'bgfast', 'bgslo', 'bgvfast', 'croot', 'froot','foliage', 'merch','otherw','snbran','snstem','ldist','elevation', 'slope', 'aspect']\n",
        "BANDS = carbon_bands.bandNames().getInfo()\n",
        "\n",
        "# This is a trianing/testing dataset of points with known land cover labels.\n",
        "# LABEL_DATA = ee.FeatureCollection('projects/pyregence-ee/assets/lucas/conus/fm40_sample_points_20counties')\n",
        "LABEL_DATA = ee.FeatureCollection('users/bbhandari/FM40TrainingData')\n",
        "# The labels, consecutive integer indices starting from zero, are stored in\n",
        "# this property, set on each point.\n",
        "# LABEL = 'FM40_WUI'\n",
        "LABEL = ['CBD',\t'CBH', 'CC', 'CH', 'FM40_WUI']\n",
        "\n",
        "FEATURES = all_data.bandNames().getInfo()\n",
        "print(len(FEATURES), FEATURES)\n",
        "\n",
        "# File names for the training and testing datasets.  These TFRecord files\n",
        "# will be exported from Earth Engine into the Cloud Storage bucket.\n",
        "TRAIN_FILE_PREFIX = 'TrainingDataFM40_wo_jjd_45class' # without state, evt, last_dist and age\n",
        "TEST_FILE_PREFIX = 'TestingDataFM40_wo_jjd_45class'\n",
        "VAL_FILE_PREFIX = 'ValidationDataFM40_wo_jjd_45class'\n",
        "\n",
        "file_extension = '.tfrecord.gz'\n",
        "TRAIN_FILE_PATH = 'gs://' + OUTPUT_BUCKET + '/' + TRAIN_FILE_PREFIX + file_extension\n",
        "TEST_FILE_PATH = 'gs://' + OUTPUT_BUCKET + '/' + TEST_FILE_PREFIX + file_extension\n",
        "VAL_FILE_PATH = 'gs://' + OUTPUT_BUCKET + '/' + VAL_FILE_PREFIX + file_extension\n"
      ],
      "execution_count": 55,
      "outputs": [
        {
          "output_type": "stream",
          "name": "stdout",
          "text": [
            "20 ['agfast', 'agmed', 'agslo', 'agvfast', 'bgfast', 'bgslo', 'bgvfast', 'croot', 'froot', 'foliage', 'merch', 'otherw', 'snbran', 'snstem', 'aspect', 'CBD', 'CBH', 'CC', 'CH', 'FM40_WUI']\n"
          ]
        }
      ]
    },
    {
      "cell_type": "code",
      "source": [
        "BATCH_SIZE = 32\n",
        "EPOCHS = 50\n",
        "\n",
        "N_CLASSES = 0\n",
        "MAX_N_CLASS = 0\n",
        "for label in LABEL:\n",
        "    thisNClass = LABEL_MIN_MAX[f'{label}_max']\n",
        "    N_CLASSES += thisNClass\n",
        "    if thisNClass > MAX_N_CLASS:\n",
        "        MAX_N_CLASS = thisNClass\n",
        "N_CLASSES, MAX_N_CLASS"
      ],
      "metadata": {
        "colab": {
          "base_uri": "https://localhost:8080/"
        },
        "id": "7h5x6E1p445k",
        "outputId": "4fcb5e7c-5c4c-40b9-a80b-822e463628dc"
      },
      "execution_count": 56,
      "outputs": [
        {
          "output_type": "execute_result",
          "data": {
            "text/plain": [
              "(158, 45)"
            ]
          },
          "metadata": {},
          "execution_count": 56
        }
      ]
    },
    {
      "cell_type": "code",
      "source": [
        "# Sample the image at the points and add a random column.\n",
        "\n",
        "sample = all_data.sample(\n",
        "    region=LABEL_DATA,\n",
        "    scale=30\n",
        ").randomColumn()\n",
        "\n",
        "# Partition the sample approximately 70-30.\n",
        "training = sample.filter(ee.Filter.lt('random', 0.6))\n",
        "train_size = training.size().getInfo()\n",
        "\n",
        "testing = sample.filter(ee.Filter.And(ee.Filter.gte('random', 0.6), ee.Filter.lt('random', 0.85)))\n",
        "test_size = testing.size().getInfo()\n",
        "\n",
        "validation = sample.filter(ee.Filter.gte('random', 0.85))\n",
        "validation_size = validation.size().getInfo()"
      ],
      "metadata": {
        "id": "5qgWB0v8eEU7"
      },
      "execution_count": 57,
      "outputs": []
    },
    {
      "cell_type": "code",
      "source": [
        "print(train_size)"
      ],
      "metadata": {
        "id": "0aKSWVli7-h4",
        "outputId": "75ef3b22-6a69-4ca1-e7ab-16c09f884313",
        "colab": {
          "base_uri": "https://localhost:8080/"
        }
      },
      "execution_count": 30,
      "outputs": [
        {
          "output_type": "stream",
          "name": "stdout",
          "text": [
            "18590\n"
          ]
        }
      ]
    },
    {
      "cell_type": "code",
      "source": [
        "# Create the tasks.\n",
        "training_task = ee.batch.Export.table.toCloudStorage(\n",
        "  collection=training,\n",
        "  description='Training Export',\n",
        "  fileNamePrefix=TRAIN_FILE_PREFIX,\n",
        "  bucket=OUTPUT_BUCKET,\n",
        "  fileFormat='TFRecord',\n",
        "  selectors=FEATURES)\n",
        "\n",
        "testing_task = ee.batch.Export.table.toCloudStorage(\n",
        "  collection=testing,\n",
        "  description='Testing Export',\n",
        "  fileNamePrefix=TEST_FILE_PREFIX,\n",
        "  bucket=OUTPUT_BUCKET,\n",
        "  fileFormat='TFRecord',\n",
        "  selectors=FEATURES)\n",
        "\n",
        "validation_task = ee.batch.Export.table.toCloudStorage(\n",
        "  collection=validation,\n",
        "  description='Validation Export',\n",
        "  fileNamePrefix=VAL_FILE_PREFIX,\n",
        "  bucket=OUTPUT_BUCKET,\n",
        "  fileFormat='TFRecord',\n",
        "  selectors=FEATURES)\n",
        "\n",
        "# Start the tasks.\n",
        "training_task.start()\n",
        "testing_task.start()\n",
        "validation_task.start()"
      ],
      "metadata": {
        "id": "RP0UbzcCeqx8"
      },
      "execution_count": 58,
      "outputs": []
    },
    {
      "cell_type": "code",
      "source": [
        "import time \n",
        "while training_task.active():\n",
        "  print('Polling for task (id: {}).'.format(training_task.id))\n",
        "  time.sleep(30)\n",
        "print('Done with training export.')\n",
        "while testing_task.active():\n",
        "  print('Polling for task (id: {}).'.format(testing_task.id))\n",
        "  time.sleep(30)\n",
        "print('Done with testing export.')\n",
        "while validation_task.active():\n",
        "  print('Polling for task (id: {}).'.format(validation_task.id))\n",
        "  time.sleep(30)\n",
        "print('Done with validation export.')"
      ],
      "metadata": {
        "id": "JrYlFXNaeYHl",
        "colab": {
          "base_uri": "https://localhost:8080/"
        },
        "outputId": "93aea31f-0f19-4672-f939-52e7d1a76750"
      },
      "execution_count": 59,
      "outputs": [
        {
          "output_type": "stream",
          "name": "stdout",
          "text": [
            "Polling for task (id: AJRFQ6D3FNUZ6ZBVTZXOXJOH).\n",
            "Polling for task (id: AJRFQ6D3FNUZ6ZBVTZXOXJOH).\n",
            "Polling for task (id: AJRFQ6D3FNUZ6ZBVTZXOXJOH).\n",
            "Done with training export.\n",
            "Done with testing export.\n",
            "Polling for task (id: NH3BXFENWDDYJ4PCS6OCUBCJ).\n",
            "Done with validation export.\n"
          ]
        }
      ]
    },
    {
      "cell_type": "code",
      "source": [
        "COLUMNS = [\n",
        "  tf.io.FixedLenFeature(shape=[1], dtype=tf.float32) for k in FEATURES\n",
        "]\n",
        "FEATURES_DICT = dict(zip(FEATURES, COLUMNS))\n"
      ],
      "metadata": {
        "id": "kBocrRNgfxTG"
      },
      "execution_count": 60,
      "outputs": []
    },
    {
      "cell_type": "code",
      "source": [
        "def parse_tfrecord(example_proto):\n",
        "  \"\"\"The parsing function.\n",
        "\n",
        "  Read a serialized example into the structure defined by featuresDict.\n",
        "  \"\"\"\n",
        "\n",
        "  return tf.io.parse_single_example(example_proto, FEATURES_DICT)\n"
      ],
      "metadata": {
        "id": "notEbCL5f1f1"
      },
      "execution_count": 61,
      "outputs": []
    },
    {
      "cell_type": "code",
      "source": [
        "from tensorflow.keras import backend as K\n",
        "\n",
        "# custom recall function\n",
        "def recall_m(y_true, y_pred):\n",
        "    true_positives = K.sum(K.round(K.clip(y_true * y_pred, 0, 1)))\n",
        "    possible_positives = K.sum(K.round(K.clip(y_true, 0, 1)))\n",
        "    recall = true_positives / (possible_positives + K.epsilon())\n",
        "    return recall\n",
        "\n",
        "# custom precision function\n",
        "def precision_m(y_true, y_pred):\n",
        "    true_positives = K.sum(K.round(K.clip(y_true * y_pred, 0, 1)))\n",
        "    predicted_positives = K.sum(K.round(K.clip(y_pred, 0, 1)))\n",
        "    precision = true_positives / (predicted_positives + K.epsilon())\n",
        "    return precision\n",
        "\n",
        "# custom F1-score function\n",
        "def f1_m(y_true, y_pred):\n",
        "    precision = precision_m(y_true, y_pred)\n",
        "    recall = recall_m(y_true, y_pred)\n",
        "    return 2*((precision*recall)/(precision+recall+K.epsilon()))\n",
        "\n",
        "# soft dice loss function\n",
        "def dice_loss(y_true, y_pred, smooth=1):\n",
        "    intersection = K.sum(K.abs(y_true * y_pred), axis=-1)\n",
        "    true_sum = K.sum(K.square(y_true),-1) \n",
        "    pred_sum = K.sum(K.square(y_pred),-1)\n",
        "    return 1 - ((2. * intersection + smooth) / (true_sum + pred_sum + smooth))\n",
        "\n",
        "# define an adaptive learning rate based on training\n",
        "lr_schedule = tf.keras.optimizers.schedules.InverseTimeDecay(\n",
        "  0.001,\n",
        "  decay_steps=500,\n",
        "  decay_rate=1,\n",
        "  staircase=False)"
      ],
      "metadata": {
        "id": "ogazyTRT7r1y"
      },
      "execution_count": 62,
      "outputs": []
    },
    {
      "cell_type": "code",
      "source": [
        "def to_tuple(inputs):\n",
        "    predictors = [inputs.get(key) for key in BANDS]\n",
        "    labels_dict = {}\n",
        "    for key in LABEL: labels_dict[key] = tf.cast(inputs.get(key), tf.int32)\n",
        "    _labels = [tf.one_hot(indices=labels_dict[key], depth=45) for key in labels_dict]\n",
        "    return (tf.expand_dims(tf.transpose(predictors), 1), tf.stack(_labels, axis=1)) \n"
      ],
      "metadata": {
        "id": "YnQTJP2e_NEw"
      },
      "execution_count": 69,
      "outputs": []
    },
    {
      "cell_type": "code",
      "source": [
        "# Load datasets from the files.\n",
        "train_dataset = tf.data.TFRecordDataset(TRAIN_FILE_PATH, compression_type='GZIP')\n",
        "test_dataset = tf.data.TFRecordDataset(TEST_FILE_PATH, compression_type='GZIP')\n",
        "val_dataset = tf.data.TFRecordDataset(VAL_FILE_PATH, compression_type='GZIP')\n",
        "\n",
        "# Map the functions over the datasets to parse and convert to tuples.\n",
        "train_dataset = train_dataset.map(parse_tfrecord, num_parallel_calls=4)\n",
        "train_dataset = train_dataset.map(to_tuple, num_parallel_calls=4)\n",
        "print(train_dataset)\n",
        "\n",
        "train_dataset = train_dataset.shuffle(train_size).batch(BATCH_SIZE).repeat()\n",
        "\n",
        "test_dataset = test_dataset.map(parse_tfrecord, num_parallel_calls=4)\n",
        "test_dataset = test_dataset.map(to_tuple, num_parallel_calls=4)\n",
        "test_dataset = test_dataset.batch(1).repeat()\n",
        "\n",
        "val_dataset = val_dataset.map(parse_tfrecord, num_parallel_calls=4)\n",
        "val_dataset = val_dataset.map(to_tuple, num_parallel_calls=4)\n",
        "val_dataset = val_dataset.batch(1)\n",
        "\n",
        "# Print the first parsed record to check.\n",
        "from pprint import pprint\n",
        "pprint(iter(test_dataset).next())"
      ],
      "metadata": {
        "colab": {
          "base_uri": "https://localhost:8080/"
        },
        "id": "94QT9jkqu2dg",
        "outputId": "25d3f832-14d2-491c-b664-8638e23f7602"
      },
      "execution_count": 70,
      "outputs": [
        {
          "output_type": "stream",
          "name": "stdout",
          "text": [
            "<ParallelMapDataset element_spec=(TensorSpec(shape=(1, 1, 15), dtype=tf.float32, name=None), TensorSpec(shape=(1, 5, 45), dtype=tf.float32, name=None))>\n",
            "(<tf.Tensor: shape=(1, 1, 1, 15), dtype=float32, numpy=\n",
            "array([[[[6.0859732e-02, 9.7575873e-02, 6.8407297e-01, 3.8217738e-01,\n",
            "          2.5126714e-02, 5.4714102e-01, 4.0202436e-01, 1.4998198e-01,\n",
            "          2.9199004e-01, 1.4921124e-01, 9.8985560e-02, 3.4790856e-01,\n",
            "          3.1383198e-02, 3.5771858e-03, 2.1100806e+02]]]], dtype=float32)>,\n",
            " <tf.Tensor: shape=(1, 1, 5, 45), dtype=float32, numpy=\n",
            "array([[[[0., 1., 0., 0., 0., 0., 0., 0., 0., 0., 0., 0., 0., 0., 0.,\n",
            "          0., 0., 0., 0., 0., 0., 0., 0., 0., 0., 0., 0., 0., 0., 0.,\n",
            "          0., 0., 0., 0., 0., 0., 0., 0., 0., 0., 0., 0., 0., 0., 0.],\n",
            "         [0., 0., 0., 0., 0., 0., 0., 0., 0., 0., 0., 0., 0., 0., 0.,\n",
            "          0., 0., 0., 0., 0., 0., 0., 0., 0., 0., 0., 0., 0., 0., 0.,\n",
            "          0., 0., 0., 0., 0., 0., 0., 0., 0., 0., 0., 0., 0., 0., 0.],\n",
            "         [0., 0., 0., 0., 0., 0., 0., 0., 1., 0., 0., 0., 0., 0., 0.,\n",
            "          0., 0., 0., 0., 0., 0., 0., 0., 0., 0., 0., 0., 0., 0., 0.,\n",
            "          0., 0., 0., 0., 0., 0., 0., 0., 0., 0., 0., 0., 0., 0., 0.],\n",
            "         [0., 0., 0., 0., 0., 1., 0., 0., 0., 0., 0., 0., 0., 0., 0.,\n",
            "          0., 0., 0., 0., 0., 0., 0., 0., 0., 0., 0., 0., 0., 0., 0.,\n",
            "          0., 0., 0., 0., 0., 0., 0., 0., 0., 0., 0., 0., 0., 0., 0.],\n",
            "         [0., 0., 0., 0., 0., 0., 0., 0., 0., 0., 0., 0., 0., 0., 0.,\n",
            "          0., 0., 0., 0., 0., 0., 0., 0., 0., 0., 0., 0., 0., 0., 0.,\n",
            "          0., 0., 0., 0., 0., 0., 0., 0., 0., 0., 0., 0., 0., 0., 0.]]]],\n",
            "      dtype=float32)>)\n"
          ]
        }
      ]
    },
    {
      "cell_type": "code",
      "source": [
        "# Define the layers in the model.\n",
        "model = tf.keras.models.Sequential([\n",
        "  tf.keras.layers.Input((1, 1, len(BANDS))),\n",
        "  tf.keras.layers.Conv2D(64, (1, 1), activation='relu', name='conv2d_1'),\n",
        "  tf.keras.layers.MaxPooling2D(2, padding='same', name='max_pool_1'),\n",
        "  tf.keras.layers.Conv2D(128, (1, 1), activation='relu', name='conv2d_2'),\n",
        "  tf.keras.layers.MaxPooling2D(2, padding='same', name='max_pool_2'),\n",
        "  tf.keras.layers.Conv2D(256, (1, 1), activation='relu', name='conv2d_3'),\n",
        "  tf.keras.layers.MaxPooling2D(2, padding='same', name='max_pool_3'),\n",
        "  tf.keras.layers.Conv2D(512, (1, 1), activation='relu', name='conv2d_4'),\n",
        "  tf.keras.layers.MaxPooling2D(2, padding='same', name='max_pool_4'),\n",
        "  tf.keras.layers.Conv2D(1024, (1, 1), activation='relu', name='conv2d_5'),\n",
        "  tf.keras.layers.MaxPooling2D(2, padding='same', name='max_pool_5'),\n",
        "  tf.keras.layers.Conv2D(512, (1, 1), activation='relu', name='conv2d_6'),\n",
        "  tf.keras.layers.MaxPooling2D(2, padding='same', name='max_pool_6'),\n",
        "  tf.keras.layers.Conv2D(256, (1, 1), activation='relu', name='conv2d_7'),\n",
        "  tf.keras.layers.MaxPooling2D(2, padding='same', name='max_pool_7'),\n",
        "  tf.keras.layers.Flatten(),\n",
        "  tf.keras.layers.Dense(1* len(LABEL) * MAX_N_CLASS , activation='sigmoid'),\n",
        "  tf.keras.layers.Reshape((1, len(LABEL), MAX_N_CLASS))\n",
        "])\n",
        "\n",
        "# Compile the model with the specified loss function.\n",
        "model.compile(\n",
        "    # optimizer='rmsprop',\n",
        "    optimizer=tf.keras.optimizers.Adam(lr_schedule),\n",
        "    # loss=dice_loss,\n",
        "    loss='categorical_crossentropy',#tf.keras.losses.CategoricalCrossentropy(label_smoothing=0.2)\n",
        "    metrics=[tf.keras.metrics.CategoricalCrossentropy(label_smoothing=0.2),'categorical_accuracy','accuracy', precision_m, recall_m, f1_m]\n",
        ")\n"
      ],
      "metadata": {
        "id": "RoKMRG_z6hJl"
      },
      "execution_count": 71,
      "outputs": []
    },
    {
      "cell_type": "code",
      "source": [
        "print(model.summary())"
      ],
      "metadata": {
        "id": "1dEehDMCE1um"
      },
      "execution_count": null,
      "outputs": []
    },
    {
      "cell_type": "code",
      "source": [
        "EPOCHS = 50\n",
        "BATCH_SIZE = 32"
      ],
      "metadata": {
        "id": "wDHLwaE16W4F"
      },
      "execution_count": 67,
      "outputs": []
    },
    {
      "cell_type": "code",
      "source": [
        "# Fit the model to the training data.\n",
        "history = model.fit(x=train_dataset,\n",
        "                    epochs=EPOCHS,\n",
        "                    steps_per_epoch=(train_size // BATCH_SIZE),\n",
        "                    validation_data=test_dataset,\n",
        "                    validation_steps=test_size,\n",
        "                   )"
      ],
      "metadata": {
        "colab": {
          "base_uri": "https://localhost:8080/"
        },
        "id": "UgPV3m6RDQTI",
        "outputId": "cdf4c357-d830-4b9b-ec5b-044568a91bee"
      },
      "execution_count": 72,
      "outputs": [
        {
          "output_type": "stream",
          "name": "stdout",
          "text": [
            "Epoch 1/50\n",
            "569/569 [==============================] - 27s 41ms/step - loss: 1.6332 - categorical_crossentropy: 1.6332 - accuracy: 0.3577 - precision_m: 0.0605 - recall_m: 0.6211 - f1_m: 0.1097 - val_loss: 1.4551 - val_categorical_crossentropy: 1.4551 - val_accuracy: 0.3194 - val_precision_m: 0.0636 - val_recall_m: 0.5275 - val_f1_m: 0.1133\n",
            "Epoch 2/50\n",
            "569/569 [==============================] - 24s 42ms/step - loss: 1.4018 - categorical_crossentropy: 1.4018 - accuracy: 0.3349 - precision_m: 0.0681 - recall_m: 0.6231 - f1_m: 0.1227 - val_loss: 1.2877 - val_categorical_crossentropy: 1.2877 - val_accuracy: 0.3572 - val_precision_m: 0.0735 - val_recall_m: 0.6331 - val_f1_m: 0.1314\n",
            "Epoch 3/50\n",
            "569/569 [==============================] - 24s 42ms/step - loss: 1.3057 - categorical_crossentropy: 1.3057 - accuracy: 0.3538 - precision_m: 0.0708 - recall_m: 0.6223 - f1_m: 0.1272 - val_loss: 1.2923 - val_categorical_crossentropy: 1.2923 - val_accuracy: 0.3572 - val_precision_m: 0.0716 - val_recall_m: 0.6049 - val_f1_m: 0.1277\n",
            "Epoch 4/50\n",
            "569/569 [==============================] - 25s 43ms/step - loss: 1.2761 - categorical_crossentropy: 1.2761 - accuracy: 0.3437 - precision_m: 0.0702 - recall_m: 0.5981 - f1_m: 0.1256 - val_loss: 1.2354 - val_categorical_crossentropy: 1.2354 - val_accuracy: 0.3584 - val_precision_m: 0.0720 - val_recall_m: 0.5858 - val_f1_m: 0.1280\n",
            "Epoch 5/50\n",
            "569/569 [==============================] - 25s 45ms/step - loss: 1.2565 - categorical_crossentropy: 1.2565 - accuracy: 0.3507 - precision_m: 0.0698 - recall_m: 0.5741 - f1_m: 0.1245 - val_loss: 1.2186 - val_categorical_crossentropy: 1.2186 - val_accuracy: 0.3554 - val_precision_m: 0.0728 - val_recall_m: 0.5954 - val_f1_m: 0.1295\n",
            "Epoch 6/50\n",
            "569/569 [==============================] - 25s 45ms/step - loss: 1.2514 - categorical_crossentropy: 1.2514 - accuracy: 0.3508 - precision_m: 0.0696 - recall_m: 0.5718 - f1_m: 0.1240 - val_loss: 1.2223 - val_categorical_crossentropy: 1.2223 - val_accuracy: 0.3515 - val_precision_m: 0.0705 - val_recall_m: 0.5946 - val_f1_m: 0.1259\n",
            "Epoch 7/50\n",
            "569/569 [==============================] - 24s 43ms/step - loss: 1.2451 - categorical_crossentropy: 1.2451 - accuracy: 0.3511 - precision_m: 0.0689 - recall_m: 0.5720 - f1_m: 0.1230 - val_loss: 1.2971 - val_categorical_crossentropy: 1.2971 - val_accuracy: 0.3422 - val_precision_m: 0.0660 - val_recall_m: 0.5411 - val_f1_m: 0.1175\n",
            "Epoch 8/50\n",
            "569/569 [==============================] - 24s 43ms/step - loss: 1.2381 - categorical_crossentropy: 1.2381 - accuracy: 0.3524 - precision_m: 0.0687 - recall_m: 0.5688 - f1_m: 0.1225 - val_loss: 1.2147 - val_categorical_crossentropy: 1.2147 - val_accuracy: 0.3603 - val_precision_m: 0.0710 - val_recall_m: 0.5891 - val_f1_m: 0.1265\n",
            "Epoch 9/50\n",
            "569/569 [==============================] - 24s 43ms/step - loss: 1.2347 - categorical_crossentropy: 1.2347 - accuracy: 0.3525 - precision_m: 0.0688 - recall_m: 0.5648 - f1_m: 0.1226 - val_loss: 1.2156 - val_categorical_crossentropy: 1.2156 - val_accuracy: 0.3555 - val_precision_m: 0.0687 - val_recall_m: 0.5714 - val_f1_m: 0.1226\n",
            "Epoch 10/50\n",
            "569/569 [==============================] - 24s 42ms/step - loss: 1.2326 - categorical_crossentropy: 1.2326 - accuracy: 0.3532 - precision_m: 0.0683 - recall_m: 0.5600 - f1_m: 0.1218 - val_loss: 1.2135 - val_categorical_crossentropy: 1.2135 - val_accuracy: 0.3567 - val_precision_m: 0.0693 - val_recall_m: 0.5712 - val_f1_m: 0.1234\n",
            "Epoch 11/50\n",
            "569/569 [==============================] - 24s 42ms/step - loss: 1.2275 - categorical_crossentropy: 1.2275 - accuracy: 0.3608 - precision_m: 0.0688 - recall_m: 0.5593 - f1_m: 0.1225 - val_loss: 1.2040 - val_categorical_crossentropy: 1.2040 - val_accuracy: 0.4168 - val_precision_m: 0.0688 - val_recall_m: 0.5669 - val_f1_m: 0.1226\n",
            "Epoch 12/50\n",
            "569/569 [==============================] - 24s 41ms/step - loss: 1.2184 - categorical_crossentropy: 1.2184 - accuracy: 0.4116 - precision_m: 0.0680 - recall_m: 0.5512 - f1_m: 0.1211 - val_loss: 1.1712 - val_categorical_crossentropy: 1.1712 - val_accuracy: 0.4270 - val_precision_m: 0.0687 - val_recall_m: 0.5408 - val_f1_m: 0.1217\n",
            "Epoch 13/50\n",
            "569/569 [==============================] - 24s 43ms/step - loss: 1.1820 - categorical_crossentropy: 1.1820 - accuracy: 0.4143 - precision_m: 0.0675 - recall_m: 0.5398 - f1_m: 0.1200 - val_loss: 1.1522 - val_categorical_crossentropy: 1.1522 - val_accuracy: 0.4260 - val_precision_m: 0.0684 - val_recall_m: 0.5516 - val_f1_m: 0.1215\n",
            "Epoch 14/50\n",
            "569/569 [==============================] - 24s 42ms/step - loss: 1.1798 - categorical_crossentropy: 1.1798 - accuracy: 0.4158 - precision_m: 0.0668 - recall_m: 0.5347 - f1_m: 0.1187 - val_loss: 1.1460 - val_categorical_crossentropy: 1.1460 - val_accuracy: 0.4259 - val_precision_m: 0.0683 - val_recall_m: 0.5480 - val_f1_m: 0.1213\n",
            "Epoch 15/50\n",
            "569/569 [==============================] - 24s 42ms/step - loss: 1.1704 - categorical_crossentropy: 1.1704 - accuracy: 0.4180 - precision_m: 0.0660 - recall_m: 0.5255 - f1_m: 0.1172 - val_loss: 1.1773 - val_categorical_crossentropy: 1.1773 - val_accuracy: 0.4079 - val_precision_m: 0.0652 - val_recall_m: 0.5328 - val_f1_m: 0.1161\n",
            "Epoch 16/50\n",
            "569/569 [==============================] - 24s 41ms/step - loss: 1.1675 - categorical_crossentropy: 1.1675 - accuracy: 0.4177 - precision_m: 0.0651 - recall_m: 0.5164 - f1_m: 0.1157 - val_loss: 1.1364 - val_categorical_crossentropy: 1.1364 - val_accuracy: 0.4337 - val_precision_m: 0.0654 - val_recall_m: 0.5113 - val_f1_m: 0.1159\n",
            "Epoch 17/50\n",
            "569/569 [==============================] - 23s 41ms/step - loss: 1.1571 - categorical_crossentropy: 1.1571 - accuracy: 0.4216 - precision_m: 0.0633 - recall_m: 0.4976 - f1_m: 0.1124 - val_loss: 1.1347 - val_categorical_crossentropy: 1.1347 - val_accuracy: 0.4293 - val_precision_m: 0.0646 - val_recall_m: 0.5052 - val_f1_m: 0.1145\n",
            "Epoch 18/50\n",
            "569/569 [==============================] - 24s 41ms/step - loss: 1.1529 - categorical_crossentropy: 1.1529 - accuracy: 0.4221 - precision_m: 0.0612 - recall_m: 0.4774 - f1_m: 0.1084 - val_loss: 1.1292 - val_categorical_crossentropy: 1.1292 - val_accuracy: 0.4327 - val_precision_m: 0.0586 - val_recall_m: 0.4627 - val_f1_m: 0.1039\n",
            "Epoch 19/50\n",
            "569/569 [==============================] - 24s 42ms/step - loss: 1.1516 - categorical_crossentropy: 1.1516 - accuracy: 0.4232 - precision_m: 0.0596 - recall_m: 0.4626 - f1_m: 0.1056 - val_loss: 1.1366 - val_categorical_crossentropy: 1.1366 - val_accuracy: 0.4250 - val_precision_m: 0.0573 - val_recall_m: 0.4404 - val_f1_m: 0.1013\n",
            "Epoch 20/50\n",
            "569/569 [==============================] - 25s 44ms/step - loss: 1.1406 - categorical_crossentropy: 1.1406 - accuracy: 0.4261 - precision_m: 0.0586 - recall_m: 0.4529 - f1_m: 0.1037 - val_loss: 1.1244 - val_categorical_crossentropy: 1.1244 - val_accuracy: 0.4298 - val_precision_m: 0.0582 - val_recall_m: 0.4517 - val_f1_m: 0.1031\n",
            "Epoch 21/50\n",
            "569/569 [==============================] - 24s 42ms/step - loss: 1.1433 - categorical_crossentropy: 1.1433 - accuracy: 0.4263 - precision_m: 0.0569 - recall_m: 0.4377 - f1_m: 0.1007 - val_loss: 1.1244 - val_categorical_crossentropy: 1.1244 - val_accuracy: 0.4379 - val_precision_m: 0.0519 - val_recall_m: 0.4046 - val_f1_m: 0.0920\n",
            "Epoch 22/50\n",
            "569/569 [==============================] - 24s 42ms/step - loss: 1.1394 - categorical_crossentropy: 1.1394 - accuracy: 0.4272 - precision_m: 0.0551 - recall_m: 0.4202 - f1_m: 0.0975 - val_loss: 1.1262 - val_categorical_crossentropy: 1.1262 - val_accuracy: 0.4323 - val_precision_m: 0.0526 - val_recall_m: 0.4093 - val_f1_m: 0.0931\n",
            "Epoch 23/50\n",
            "569/569 [==============================] - 24s 42ms/step - loss: 1.1341 - categorical_crossentropy: 1.1341 - accuracy: 0.4291 - precision_m: 0.0528 - recall_m: 0.4008 - f1_m: 0.0932 - val_loss: 1.1153 - val_categorical_crossentropy: 1.1153 - val_accuracy: 0.4383 - val_precision_m: 0.0490 - val_recall_m: 0.3726 - val_f1_m: 0.0866\n",
            "Epoch 24/50\n",
            "569/569 [==============================] - 25s 44ms/step - loss: 1.1337 - categorical_crossentropy: 1.1337 - accuracy: 0.4295 - precision_m: 0.0516 - recall_m: 0.3902 - f1_m: 0.0911 - val_loss: 1.1178 - val_categorical_crossentropy: 1.1178 - val_accuracy: 0.4376 - val_precision_m: 0.0484 - val_recall_m: 0.3690 - val_f1_m: 0.0856\n",
            "Epoch 25/50\n",
            "569/569 [==============================] - 25s 44ms/step - loss: 1.1262 - categorical_crossentropy: 1.1262 - accuracy: 0.4309 - precision_m: 0.0508 - recall_m: 0.3818 - f1_m: 0.0897 - val_loss: 1.1098 - val_categorical_crossentropy: 1.1098 - val_accuracy: 0.4358 - val_precision_m: 0.0484 - val_recall_m: 0.3730 - val_f1_m: 0.0856\n",
            "Epoch 26/50\n",
            "569/569 [==============================] - 46s 81ms/step - loss: 1.1271 - categorical_crossentropy: 1.1271 - accuracy: 0.4298 - precision_m: 0.0501 - recall_m: 0.3749 - f1_m: 0.0883 - val_loss: 1.1065 - val_categorical_crossentropy: 1.1065 - val_accuracy: 0.4384 - val_precision_m: 0.0481 - val_recall_m: 0.3681 - val_f1_m: 0.0851\n",
            "Epoch 27/50\n",
            "569/569 [==============================] - 24s 43ms/step - loss: 1.1209 - categorical_crossentropy: 1.1209 - accuracy: 0.4317 - precision_m: 0.0498 - recall_m: 0.3722 - f1_m: 0.0878 - val_loss: 1.1086 - val_categorical_crossentropy: 1.1086 - val_accuracy: 0.4406 - val_precision_m: 0.0463 - val_recall_m: 0.3595 - val_f1_m: 0.0819\n",
            "Epoch 28/50\n",
            "569/569 [==============================] - 23s 41ms/step - loss: 1.1250 - categorical_crossentropy: 1.1250 - accuracy: 0.4302 - precision_m: 0.0494 - recall_m: 0.3678 - f1_m: 0.0870 - val_loss: 1.1059 - val_categorical_crossentropy: 1.1059 - val_accuracy: 0.4416 - val_precision_m: 0.0468 - val_recall_m: 0.3561 - val_f1_m: 0.0827\n",
            "Epoch 29/50\n",
            "569/569 [==============================] - 24s 42ms/step - loss: 1.1162 - categorical_crossentropy: 1.1162 - accuracy: 0.4331 - precision_m: 0.0493 - recall_m: 0.3667 - f1_m: 0.0869 - val_loss: 1.1046 - val_categorical_crossentropy: 1.1046 - val_accuracy: 0.4371 - val_precision_m: 0.0467 - val_recall_m: 0.3575 - val_f1_m: 0.0827\n",
            "Epoch 30/50\n",
            "569/569 [==============================] - 23s 41ms/step - loss: 1.1151 - categorical_crossentropy: 1.1151 - accuracy: 0.4327 - precision_m: 0.0489 - recall_m: 0.3610 - f1_m: 0.0861 - val_loss: 1.1131 - val_categorical_crossentropy: 1.1131 - val_accuracy: 0.4418 - val_precision_m: 0.0424 - val_recall_m: 0.3148 - val_f1_m: 0.0747\n",
            "Epoch 31/50\n",
            "569/569 [==============================] - 24s 42ms/step - loss: 1.1133 - categorical_crossentropy: 1.1133 - accuracy: 0.4333 - precision_m: 0.0489 - recall_m: 0.3607 - f1_m: 0.0861 - val_loss: 1.1037 - val_categorical_crossentropy: 1.1037 - val_accuracy: 0.4439 - val_precision_m: 0.0449 - val_recall_m: 0.3470 - val_f1_m: 0.0795\n",
            "Epoch 32/50\n",
            "569/569 [==============================] - 23s 41ms/step - loss: 1.1123 - categorical_crossentropy: 1.1123 - accuracy: 0.4338 - precision_m: 0.0480 - recall_m: 0.3538 - f1_m: 0.0845 - val_loss: 1.1014 - val_categorical_crossentropy: 1.1014 - val_accuracy: 0.4344 - val_precision_m: 0.0459 - val_recall_m: 0.3462 - val_f1_m: 0.0810\n",
            "Epoch 33/50\n",
            "569/569 [==============================] - 24s 41ms/step - loss: 1.1087 - categorical_crossentropy: 1.1087 - accuracy: 0.4351 - precision_m: 0.0484 - recall_m: 0.3564 - f1_m: 0.0852 - val_loss: 1.1012 - val_categorical_crossentropy: 1.1012 - val_accuracy: 0.4371 - val_precision_m: 0.0455 - val_recall_m: 0.3473 - val_f1_m: 0.0804\n",
            "Epoch 34/50\n",
            "569/569 [==============================] - 23s 41ms/step - loss: 1.1094 - categorical_crossentropy: 1.1094 - accuracy: 0.4355 - precision_m: 0.0471 - recall_m: 0.3466 - f1_m: 0.0830 - val_loss: 1.1010 - val_categorical_crossentropy: 1.1010 - val_accuracy: 0.4408 - val_precision_m: 0.0430 - val_recall_m: 0.3214 - val_f1_m: 0.0759\n",
            "Epoch 35/50\n",
            "569/569 [==============================] - 24s 41ms/step - loss: 1.1029 - categorical_crossentropy: 1.1029 - accuracy: 0.4364 - precision_m: 0.0472 - recall_m: 0.3466 - f1_m: 0.0831 - val_loss: 1.1048 - val_categorical_crossentropy: 1.1048 - val_accuracy: 0.4403 - val_precision_m: 0.0448 - val_recall_m: 0.3461 - val_f1_m: 0.0793\n",
            "Epoch 36/50\n",
            "569/569 [==============================] - 23s 41ms/step - loss: 1.1074 - categorical_crossentropy: 1.1074 - accuracy: 0.4352 - precision_m: 0.0465 - recall_m: 0.3418 - f1_m: 0.0819 - val_loss: 1.1128 - val_categorical_crossentropy: 1.1128 - val_accuracy: 0.4362 - val_precision_m: 0.0434 - val_recall_m: 0.3386 - val_f1_m: 0.0769\n",
            "Epoch 37/50\n",
            "569/569 [==============================] - 24s 42ms/step - loss: 1.1036 - categorical_crossentropy: 1.1036 - accuracy: 0.4371 - precision_m: 0.0464 - recall_m: 0.3410 - f1_m: 0.0816 - val_loss: 1.0913 - val_categorical_crossentropy: 1.0912 - val_accuracy: 0.4455 - val_precision_m: 0.0432 - val_recall_m: 0.3298 - val_f1_m: 0.0764\n",
            "Epoch 38/50\n",
            "569/569 [==============================] - 24s 42ms/step - loss: 1.1030 - categorical_crossentropy: 1.1030 - accuracy: 0.4377 - precision_m: 0.0463 - recall_m: 0.3403 - f1_m: 0.0815 - val_loss: 1.0934 - val_categorical_crossentropy: 1.0934 - val_accuracy: 0.4430 - val_precision_m: 0.0436 - val_recall_m: 0.3339 - val_f1_m: 0.0772\n",
            "Epoch 39/50\n",
            "569/569 [==============================] - 24s 42ms/step - loss: 1.1024 - categorical_crossentropy: 1.1024 - accuracy: 0.4371 - precision_m: 0.0460 - recall_m: 0.3375 - f1_m: 0.0809 - val_loss: 1.0903 - val_categorical_crossentropy: 1.0903 - val_accuracy: 0.4441 - val_precision_m: 0.0432 - val_recall_m: 0.3254 - val_f1_m: 0.0762\n",
            "Epoch 40/50\n",
            "569/569 [==============================] - 23s 40ms/step - loss: 1.0971 - categorical_crossentropy: 1.0971 - accuracy: 0.4397 - precision_m: 0.0463 - recall_m: 0.3403 - f1_m: 0.0815 - val_loss: 1.0879 - val_categorical_crossentropy: 1.0879 - val_accuracy: 0.4456 - val_precision_m: 0.0438 - val_recall_m: 0.3338 - val_f1_m: 0.0775\n",
            "Epoch 41/50\n",
            "569/569 [==============================] - 23s 41ms/step - loss: 1.0949 - categorical_crossentropy: 1.0949 - accuracy: 0.4399 - precision_m: 0.0459 - recall_m: 0.3369 - f1_m: 0.0808 - val_loss: 1.0931 - val_categorical_crossentropy: 1.0931 - val_accuracy: 0.4426 - val_precision_m: 0.0429 - val_recall_m: 0.3256 - val_f1_m: 0.0758\n",
            "Epoch 42/50\n",
            "569/569 [==============================] - 24s 42ms/step - loss: 1.0938 - categorical_crossentropy: 1.0938 - accuracy: 0.4400 - precision_m: 0.0460 - recall_m: 0.3379 - f1_m: 0.0809 - val_loss: 1.0866 - val_categorical_crossentropy: 1.0866 - val_accuracy: 0.4408 - val_precision_m: 0.0434 - val_recall_m: 0.3303 - val_f1_m: 0.0767\n",
            "Epoch 43/50\n",
            "569/569 [==============================] - 23s 41ms/step - loss: 1.0995 - categorical_crossentropy: 1.0995 - accuracy: 0.4382 - precision_m: 0.0455 - recall_m: 0.3341 - f1_m: 0.0801 - val_loss: 1.0859 - val_categorical_crossentropy: 1.0859 - val_accuracy: 0.4445 - val_precision_m: 0.0435 - val_recall_m: 0.3306 - val_f1_m: 0.0768\n",
            "Epoch 44/50\n",
            "569/569 [==============================] - 23s 41ms/step - loss: 1.0940 - categorical_crossentropy: 1.0940 - accuracy: 0.4418 - precision_m: 0.0453 - recall_m: 0.3325 - f1_m: 0.0797 - val_loss: 1.0877 - val_categorical_crossentropy: 1.0877 - val_accuracy: 0.4469 - val_precision_m: 0.0423 - val_recall_m: 0.3220 - val_f1_m: 0.0748\n",
            "Epoch 45/50\n",
            "569/569 [==============================] - 23s 41ms/step - loss: 1.0903 - categorical_crossentropy: 1.0903 - accuracy: 0.4415 - precision_m: 0.0452 - recall_m: 0.3317 - f1_m: 0.0795 - val_loss: 1.0845 - val_categorical_crossentropy: 1.0845 - val_accuracy: 0.4482 - val_precision_m: 0.0425 - val_recall_m: 0.3235 - val_f1_m: 0.0751\n",
            "Epoch 46/50\n",
            "569/569 [==============================] - 25s 44ms/step - loss: 1.0931 - categorical_crossentropy: 1.0931 - accuracy: 0.4409 - precision_m: 0.0453 - recall_m: 0.3322 - f1_m: 0.0797 - val_loss: 1.0850 - val_categorical_crossentropy: 1.0850 - val_accuracy: 0.4453 - val_precision_m: 0.0429 - val_recall_m: 0.3261 - val_f1_m: 0.0758\n",
            "Epoch 47/50\n",
            "569/569 [==============================] - 25s 44ms/step - loss: 1.0958 - categorical_crossentropy: 1.0958 - accuracy: 0.4397 - precision_m: 0.0445 - recall_m: 0.3262 - f1_m: 0.0782 - val_loss: 1.0816 - val_categorical_crossentropy: 1.0816 - val_accuracy: 0.4472 - val_precision_m: 0.0423 - val_recall_m: 0.3240 - val_f1_m: 0.0748\n",
            "Epoch 48/50\n",
            "569/569 [==============================] - 24s 42ms/step - loss: 1.0882 - categorical_crossentropy: 1.0882 - accuracy: 0.4425 - precision_m: 0.0450 - recall_m: 0.3306 - f1_m: 0.0792 - val_loss: 1.0900 - val_categorical_crossentropy: 1.0900 - val_accuracy: 0.4391 - val_precision_m: 0.0432 - val_recall_m: 0.3351 - val_f1_m: 0.0765\n",
            "Epoch 49/50\n",
            "569/569 [==============================] - 25s 44ms/step - loss: 1.0869 - categorical_crossentropy: 1.0869 - accuracy: 0.4431 - precision_m: 0.0451 - recall_m: 0.3309 - f1_m: 0.0794 - val_loss: 1.0797 - val_categorical_crossentropy: 1.0797 - val_accuracy: 0.4460 - val_precision_m: 0.0422 - val_recall_m: 0.3256 - val_f1_m: 0.0747\n",
            "Epoch 50/50\n",
            "569/569 [==============================] - 24s 43ms/step - loss: 1.0872 - categorical_crossentropy: 1.0872 - accuracy: 0.4410 - precision_m: 0.0446 - recall_m: 0.3279 - f1_m: 0.0785 - val_loss: 1.0807 - val_categorical_crossentropy: 1.0807 - val_accuracy: 0.4462 - val_precision_m: 0.0419 - val_recall_m: 0.3240 - val_f1_m: 0.0742\n"
          ]
        }
      ]
    },
    {
      "cell_type": "code",
      "source": [
        "# plot the results of model training\n",
        "\n",
        "fig, ax = plt.subplots(nrows=2, sharex=True, figsize=(15, 10))\n",
        "\n",
        "ax[0].plot(history.history['loss'],color='#1f77b4',label='Training Loss')\n",
        "ax[0].plot(history.history['val_loss'],linestyle=':',marker='o',markersize=3,color='#1f77b4',label='Validation Loss')\n",
        "ax[0].set_ylabel('Loss')\n",
        "ax[0].legend()\n",
        "\n",
        "ax[1].plot(history.history['f1_m'],color='#ff7f0e',label='Training Acc.')\n",
        "ax[1].plot(history.history['val_f1_m'],linestyle=':',marker='o',markersize=3,color='#ff7f0e',label='Validation Acc.')\n",
        "ax[1].set_ylabel('Accuracy')\n",
        "ax[1].set_xlabel('Epoch')\n",
        "ax[1].legend(loc=\"lower right\")\n",
        "\n",
        "ax[1].set_xticks(history.epoch)\n",
        "ax[1].set_xticklabels(range(1,len(history.epoch)+1))\n",
        "ax[1].set_xlabel('Epoch')\n",
        "\n",
        "plt.legend()\n",
        "plt.tight_layout()\n",
        "plt.show()\n"
      ],
      "metadata": {
        "colab": {
          "base_uri": "https://localhost:8080/",
          "height": 729
        },
        "id": "sy9WukrF7SRd",
        "outputId": "e574d177-9018-452c-cdd3-bac795e1e104"
      },
      "execution_count": 73,
      "outputs": [
        {
          "output_type": "display_data",
          "data": {
            "image/png": "[encoded data removed]",
            "text/plain": [
              "<Figure size 1080x720 with 2 Axes>"
            ]
          },
          "metadata": {
            "needs_background": "light"
          }
        }
      ]
    },
    {
      "cell_type": "code",
      "source": [
        ""
      ],
      "metadata": {
        "id": "lPzVeurUq-QG"
      },
      "execution_count": null,
      "outputs": []
    },
    {
      "cell_type": "code",
      "source": [
        "# evaluate the model\n",
        "model.evaluate(val_dataset)"
      ],
      "metadata": {
        "id": "ZxMCaDVTB9EX",
        "colab": {
          "base_uri": "https://localhost:8080/"
        },
        "outputId": "dc145165-5af2-43dc-fa6b-a7ec505236ff"
      },
      "execution_count": 65,
      "outputs": [
        {
          "output_type": "stream",
          "name": "stdout",
          "text": [
            "4600/4600 [==============================] - 15s 3ms/step - loss: 2.9413 - categorical_crossentropy: 2.9413 - accuracy: 0.4034 - precision_m: 0.0104 - recall_m: 0.0026 - f1_m: 0.0042\n"
          ]
        },
        {
          "output_type": "execute_result",
          "data": {
            "text/plain": [
              "[2.9412927627563477,\n",
              " 2.9412920475006104,\n",
              " 0.40343478322029114,\n",
              " 0.01043478213250637,\n",
              " 0.0026086957659572363,\n",
              " 0.004173910710960627]"
            ]
          },
          "metadata": {},
          "execution_count": 65
        }
      ]
    },
    {
      "cell_type": "code",
      "source": [
        "# save the model as a TF Estimator which is what \n",
        "MODEL_NAME = 'fm40_multilable_multiclass_cnn'\n",
        "TF_DIR = 'gs://{}/{}/'.format(BUCKET,MODEL_NAME)\n",
        "\n",
        "# tf.keras.models.save_model(model,TF_DIR,save_format='tf')"
      ],
      "metadata": {
        "id": "yjlBohhp6GT7"
      },
      "execution_count": null,
      "outputs": []
    }
  ]
}