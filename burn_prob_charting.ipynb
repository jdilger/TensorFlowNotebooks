{
 "cells": [
  {
   "cell_type": "code",
   "execution_count": null,
   "id": "79d1ea6d",
   "metadata": {},
   "outputs": [],
   "source": [
    "import ee\n",
    "import geemap\n",
    "import pandas as pd\n",
    "import altair as alt\n",
    "from scipy.stats import gaussian_kde\n",
    "ee.Initialize()\n"
   ]
  },
  {
   "cell_type": "code",
   "execution_count": null,
   "id": "e9b8fa32",
   "metadata": {},
   "outputs": [],
   "source": [
    "Map = geemap.Map()\n",
    "Map"
   ]
  },
  {
   "cell_type": "code",
   "execution_count": null,
   "id": "df8e5514",
   "metadata": {},
   "outputs": [],
   "source": [
    "# perdicted images\n",
    "v5 = ee.Image(\"projects/pyregence-ee/assets/lucas/tensorflow/vgg16unet_model_jjd_mae_sigmoid_v5_ESTIMATOR_grass_valley\").rename('BP_predicted')\n",
    "vN = ee.Image(\"projects/pyregence-ee/assets/lucas/tensorflow/BPpredictions_linear_huber_GrassValley\").rename('BP_predicted')\n",
    "\n",
    "\n",
    "# observed \n",
    "bp = ee.Image(\"projects/pyregence-ee/assets/conus/elmfire/production01/bp\").rename('BP_observed')\n",
    "\n",
    "# areas\n",
    "areas = ee.FeatureCollection(\"projects/pyregence-ee/assets/lucas/tensorflow/inference_bboxes\")\n",
    "grassvaleyPnt = ee.Geometry.Point([-120.9868, 39.2642])\n",
    "grassvaley = areas.filterBounds(grassvaleyPnt)\n",
    "Map.addLayer(areas,{},'areas')\n",
    "Map.addLayer(grassvaley,{},'gv')"
   ]
  },
  {
   "cell_type": "code",
   "execution_count": null,
   "id": "7b5b2b91",
   "metadata": {},
   "outputs": [],
   "source": [
    "def sample_image(image, region, numPixels, scale=30, seed=1337, geometries=False ):\n",
    "    samples = image.sample(**{'region':region,\n",
    "                          'scale':scale,\n",
    "                          'numPixels':numPixels,\n",
    "                          'seed':seed,\n",
    "                          'tileScale':6,\n",
    "                          'geometries':geometries})\n",
    "    return samples\n",
    "\n",
    "def get_samples_df(samples:ee.FeatureCollection, properties:list,):\n",
    "    # Arrange the sample as a list of lists.\n",
    "    samp_dict = samples.reduceColumns(ee.Reducer.toList().repeat(len(properties)), properties)\n",
    "    samp_list = ee.List(samp_dict.get('list'))\n",
    "\n",
    "    # Save server-side ee.List as a client-side Python list.\n",
    "    samp_data = samp_list.getInfo()\n",
    "    df_source = {e : samp_data[i] for i,e in enumerate(properties)}\n",
    "    source = pd.DataFrame(df_source)\n",
    "    return source\n",
    "\n",
    "def default_chart(df,x,y,title,subtitle=\"\"):\n",
    "    # Calculate the point density\n",
    "    xy = np.vstack([df[x],df[y]])\n",
    "    df['z'] = gaussian_kde(xy)(xy)\n",
    "    \n",
    "    chart = alt.Chart(df).mark_circle(size=20).encode(\n",
    "        alt.X(f'{x}:Q'),\n",
    "        alt.Y(f'{y}:Q'),\n",
    "        alt.Color('z:Q', scale=alt.Scale(scheme='inferno')),##alt.value(\"#a83238\"),\n",
    "        #opacity=alt.value(0.6),\n",
    "        ).properties(\n",
    "            title={'text':title,\n",
    "                  'subtitle':subtitle}\n",
    "        ).configure_title(\n",
    "            fontSize=20,\n",
    "            font='Roboto',\n",
    "            align='left',\n",
    "            color='black',\n",
    "        )\n",
    "    return chart"
   ]
  },
  {
   "cell_type": "code",
   "execution_count": null,
   "id": "e27694f9",
   "metadata": {},
   "outputs": [],
   "source": [
    "stack_v5 = v5.addBands(bp)\n",
    "stack_v1 = vN.addBands(bp)\n",
    "\n",
    "samples_v5 = sample_image(stack_v5, grassvaley, 2500)\n",
    "samples_v1 = sample_image(stack_v1, grassvaley, 2500)\n",
    "\n",
    "properties =  ['BP_observed', 'BP_predicted']\n",
    "df_samples_v5 = get_samples_df(samples_v5, properties)\n",
    "df_samples_v1 = get_samples_df(samples_v1, properties)\n",
    "\n",
    "chart_v5 = default_chart(df_samples_v5, x=properties[1], y=properties[0], title=\"Burn probability observed vs predicted\" , subtitle=\"vgg16unet_model_jjd_mae_sigmoid_v5_ESTIMATOR_grass_valley\")\n",
    "chart_v1 = default_chart(df_samples_v1, x=properties[1], y=properties[0], title=\"Burn probability observed vs predicted\" , subtitle=\"BPpredictions_linear_huber_GrassValley\")\n",
    "\n",
    "chart_v5"
   ]
  },
  {
   "cell_type": "code",
   "execution_count": null,
   "id": "aeacb15d",
   "metadata": {},
   "outputs": [],
   "source": [
    "chart_v1"
   ]
  },
  {
   "cell_type": "code",
   "execution_count": null,
   "id": "347c2a76",
   "metadata": {},
   "outputs": [],
   "source": [
    "# Arrange the sample as a list of lists.\n",
    "samp_dict = samples.reduceColumns(ee.Reducer.toList().repeat(2), ['BP_observed', 'BP_predicted'])\n",
    "samp_list = ee.List(samp_dict.get('list'))\n",
    "\n",
    "# Save server-side ee.List as a client-side Python list.\n",
    "samp_data = samp_list.getInfo()\n"
   ]
  },
  {
   "cell_type": "code",
   "execution_count": null,
   "id": "a639d8f3",
   "metadata": {},
   "outputs": [],
   "source": [
    "import altair as alt\n",
    "len(samp_data)\n",
    "\n",
    "source = pd.DataFrame({\"BP_observed\": samp_data[0], \"BP_predicted\": samp_data[1]})\n",
    "\n",
    "\n",
    "chart = alt.Chart(source).mark_circle(size=60).encode(\n",
    "    y='BP_observed',\n",
    "    x='BP_predicted',\n",
    "    opacity=alt.value(0.2),\n",
    "    color=alt.value(\"#a83238\"),\n",
    ").properties(\n",
    "#     title='Burn probibility observed vrs predicted',#ok this works\n",
    "    title={'text':'Burn probibility observed vrs predicted',\n",
    "          'subtitle':'vgg16unet_model_jjd_mae_sigmoid_v5_ESTIMATOR_grass_valley'}\n",
    "\n",
    ").configure_title(\n",
    "    fontSize=20,\n",
    "    font='Roboto',\n",
    "    align='left',\n",
    "    color='black',\n",
    "#     fontWeight='lighter'\n",
    ")\n",
    "chart"
   ]
  },
  {
   "cell_type": "code",
   "execution_count": null,
   "id": "2d5b56c0",
   "metadata": {},
   "outputs": [],
   "source": [
    "# chart Kyles runs\n",
    "# Arrange the sample as a list of lists.\n",
    "samp_dictN = samplesN.reduceColumns(ee.Reducer.toList().repeat(2), ['BP_observed', 'BP_predicted'])\n",
    "samp_listN = ee.List(samp_dictN.get('list'))\n",
    "\n",
    "# Save server-side ee.List as a client-side Python list.\n",
    "samp_dataN = samp_listN.getInfo()"
   ]
  },
  {
   "cell_type": "code",
   "execution_count": null,
   "id": "196759e2",
   "metadata": {},
   "outputs": [],
   "source": [
    "sourceN = pd.DataFrame({\"BP_observed\": samp_dataN[0], \"BP_predicted\": samp_dataN[1]})\n",
    "# source.head\n",
    "chartN = alt.Chart(sourceN).mark_circle(size=60).encode(\n",
    "    y='BP_observed',\n",
    "    x='BP_predicted',\n",
    "    opacity=alt.value(0.2),\n",
    "    color=alt.value(\"#a83238\"),\n",
    ").properties(\n",
    "#     title='Burn probibility observed vrs predicted',#ok this works\n",
    "    title={'text':'Burn probibility observed vrs predicted',\n",
    "          'subtitle':'BPpredictions_linear_huber_GrassValley'}\n",
    "\n",
    ").configure_title(\n",
    "    fontSize=20,\n",
    "    font='Roboto',\n",
    "    align='left',\n",
    "    color='black',\n",
    "#     fontWeight='lighter'\n",
    ")\n",
    "\n",
    "chartN"
   ]
  }
 ],
 "metadata": {
  "kernelspec": {
   "display_name": "Python 3 (ipykernel)",
   "language": "python",
   "name": "python3"
  },
  "language_info": {
   "codemirror_mode": {
    "name": "ipython",
    "version": 3
   },
   "file_extension": ".py",
   "mimetype": "text/x-python",
   "name": "python",
   "nbconvert_exporter": "python",
   "pygments_lexer": "ipython3",
   "version": "3.8.12"
  }
 },
 "nbformat": 4,
 "nbformat_minor": 5
}
